{
 "cells": [
  {
   "cell_type": "code",
   "execution_count": 0,
   "metadata": {
    "application/vnd.databricks.v1+cell": {
     "cellMetadata": {
      "byteLimit": 2048000,
      "rowLimit": 10000
     },
     "inputWidgets": {},
     "nuid": "8ee1344e-2fa7-4ab9-b4f7-2461ea24afb2",
     "showTitle": false,
     "tableResultSettingsMap": {},
     "title": ""
    }
   },
   "outputs": [],
   "source": [
    "catalogName = \"mzervou\"\n",
    "dbName = \"media\"\n",
    "\n",
    "print(catalogName)\n",
    "print(dbName)"
   ]
  },
  {
   "cell_type": "code",
   "execution_count": 0,
   "metadata": {
    "application/vnd.databricks.v1+cell": {
     "cellMetadata": {
      "byteLimit": 2048000,
      "rowLimit": 10000
     },
     "inputWidgets": {},
     "nuid": "627a33f8-4c92-4683-97cc-c875a8af9a95",
     "showTitle": false,
     "tableResultSettingsMap": {},
     "title": ""
    }
   },
   "outputs": [],
   "source": [
    "import random\n",
    "\n",
    "# Provided content IDs\n",
    "content_ids = [\n",
    "    \"ITV1YorkshireWest.uk20241027163000 +0000\", \"ITV1West.uk20241229092500 +0000\", \"E4Extra.uk20250121193000 +0000\",\n",
    "    \"Channel5Plus1.uk20240919091000 +0100\", \"BBCThreeHD.uk20241130190000 +0000\", \"ITV1West.uk20241005092500 +0100\",\n",
    "    \"CBBC.uk20241128171000 +0000\", \"FoodNetworkUK.uk20241109120000 +0000\", \"GreatMovies.uk20241004110000 +0100\",\n",
    "    \"ITV1WestCountry.uk20250104092500 +0000\", \"Now80s.uk20240913230000 +0100\", \"S4C.uk20240824081000 +0100\",\n",
    "    \"ClublandTV.uk20241026000000 +0100\", \"ThatsTV.uk20241222173000 +0000\", \"5Select.uk20241218010000 +0000\"\n",
    "]\n",
    "\n",
    "def generate_user_profiles(num_users=100000):\n",
    "    data = [\n",
    "        (f\"user_{i}\", random.choice([\"Male\", \"Female\"]), random.randint(18, 65), random.choice([\"Free\", \"Premium\"]))\n",
    "        for i in range(1, num_users + 1)\n",
    "    ]\n",
    "    schema = [\"user_id\", \"gender\", \"age\", \"subscription\"]\n",
    "    return spark.createDataFrame(data, schema)\n",
    "\n",
    "def generate_viewing_statistics(num_views=200000):\n",
    "    data = [\n",
    "        (f\"user_{random.randint(1, 100000)}\", random.choice(content_ids), \n",
    "         random.randint(1, 100), random.choice([\"Completed\", \"Abandoned\"]))\n",
    "        for _ in range(num_views)\n",
    "    ]\n",
    "    schema = [\"user_id\", \"content_id\", \"watch_time\", \"status\"]\n",
    "    return spark.createDataFrame(data, schema)\n",
    "\n",
    "def generate_user_interactions(num_interactions=150000):\n",
    "    actions = [\"Like\", \"Share\", \"Comment\"]\n",
    "    data = [\n",
    "        (f\"user_{random.randint(1, 100000)}\", random.choice(content_ids), random.choice(actions))\n",
    "        for _ in range(num_interactions)\n",
    "    ]\n",
    "    schema = [\"user_id\", \"content_id\", \"action\"]\n",
    "    return spark.createDataFrame(data, schema)\n",
    "\n",
    "# Generate data\n",
    "user_profiles_df = generate_user_profiles()\n",
    "viewing_statistics_df = generate_viewing_statistics()\n",
    "user_interactions_df = generate_user_interactions()\n",
    "\n",
    "# Write DataFrames to Delta tables\n",
    "user_profiles_df.write.format(\"delta\").mode(\"overwrite\").saveAsTable(f\"{catalogName}.{dbName}.user_profiles\")\n",
    "viewing_statistics_df.write.format(\"delta\").mode(\"overwrite\").saveAsTable(f\"{catalogName}.{dbName}.viewing_statistics\")\n",
    "user_interactions_df.write.format(\"delta\").mode(\"overwrite\").saveAsTable(f\"{catalogName}.{dbName}.user_interactions\")\n"
   ]
  },
  {
   "cell_type": "code",
   "execution_count": 0,
   "metadata": {
    "application/vnd.databricks.v1+cell": {
     "cellMetadata": {},
     "inputWidgets": {},
     "nuid": "3adefc56-c0b0-4477-9c48-92e904a58692",
     "showTitle": false,
     "tableResultSettingsMap": {},
     "title": ""
    }
   },
   "outputs": [],
   "source": []
  }
 ],
 "metadata": {
  "application/vnd.databricks.v1+notebook": {
   "computePreferences": null,
   "dashboards": [],
   "environmentMetadata": {
    "base_environment": "",
    "environment_version": "2"
   },
   "language": "python",
   "notebookMetadata": {
    "pythonIndentUnit": 2
   },
   "notebookName": "1_Data_Generation",
   "widgets": {}
  },
  "language_info": {
   "name": "python"
  }
 },
 "nbformat": 4,
 "nbformat_minor": 0
}
